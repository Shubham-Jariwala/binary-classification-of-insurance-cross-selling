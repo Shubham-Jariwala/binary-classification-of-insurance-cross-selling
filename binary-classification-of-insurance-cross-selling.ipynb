{
 "cells": [
  {
   "cell_type": "markdown",
   "id": "354b866c",
   "metadata": {
    "papermill": {
     "duration": 0.011114,
     "end_time": "2024-07-03T12:35:44.196418",
     "exception": false,
     "start_time": "2024-07-03T12:35:44.185304",
     "status": "completed"
    },
    "tags": []
   },
   "source": [
    "# Introduction"
   ]
  },
  {
   "cell_type": "markdown",
   "id": "a73edf95",
   "metadata": {
    "papermill": {
     "duration": 0.010352,
     "end_time": "2024-07-03T12:35:44.218372",
     "exception": false,
     "start_time": "2024-07-03T12:35:44.208020",
     "status": "completed"
    },
    "tags": []
   },
   "source": [
    "The goal is to predict which customers respond positively to an automobile insurance offer. To get a baseline for further improvement and experiments we compute a tuned LightGBM.\n",
    "\n",
    "The evaluation metric is *area under the ROC curve* and the binary target variable is *Response*."
   ]
  },
  {
   "cell_type": "markdown",
   "id": "990961d8",
   "metadata": {
    "papermill": {
     "duration": 0.010242,
     "end_time": "2024-07-03T12:35:44.239138",
     "exception": false,
     "start_time": "2024-07-03T12:35:44.228896",
     "status": "completed"
    },
    "tags": []
   },
   "source": [
    "## Libraries"
   ]
  },
  {
   "cell_type": "code",
   "execution_count": 1,
   "id": "60208ae7",
   "metadata": {
    "_cell_guid": "b1076dfc-b9ad-4769-8c92-a6c4dae69d19",
    "_kg_hide-output": true,
    "_uuid": "8f2839f25d086af736a60e9eeb907d3b93b6e0e5",
    "execution": {
     "iopub.execute_input": "2024-07-03T12:35:44.261955Z",
     "iopub.status.busy": "2024-07-03T12:35:44.261576Z",
     "iopub.status.idle": "2024-07-03T12:35:47.933464Z",
     "shell.execute_reply": "2024-07-03T12:35:47.932361Z"
    },
    "papermill": {
     "duration": 3.686379,
     "end_time": "2024-07-03T12:35:47.936161",
     "exception": false,
     "start_time": "2024-07-03T12:35:44.249782",
     "status": "completed"
    },
    "tags": []
   },
   "outputs": [],
   "source": [
    "# Import Libraries\n",
    "import numpy as np \n",
    "import pandas as pd \n",
    "import datetime\n",
    "import matplotlib.pyplot as plt\n",
    "import seaborn as sns\n",
    "from sklearn.model_selection import StratifiedKFold, train_test_split\n",
    "from sklearn.feature_selection import mutual_info_classif\n",
    "from sklearn.base import clone\n",
    "from lightgbm import LGBMClassifier\n",
    "from sklearn.metrics import roc_auc_score,roc_curve"
   ]
  },
  {
   "cell_type": "markdown",
   "id": "5979aede",
   "metadata": {
    "papermill": {
     "duration": 0.010334,
     "end_time": "2024-07-03T12:35:47.958016",
     "exception": false,
     "start_time": "2024-07-03T12:35:47.947682",
     "status": "completed"
    },
    "tags": []
   },
   "source": [
    "## Read Data"
   ]
  },
  {
   "cell_type": "code",
   "execution_count": 2,
   "id": "390888af",
   "metadata": {
    "execution": {
     "iopub.execute_input": "2024-07-03T12:35:47.981600Z",
     "iopub.status.busy": "2024-07-03T12:35:47.981022Z",
     "iopub.status.idle": "2024-07-03T12:36:22.804324Z",
     "shell.execute_reply": "2024-07-03T12:36:22.803224Z"
    },
    "papermill": {
     "duration": 34.838503,
     "end_time": "2024-07-03T12:36:22.807065",
     "exception": false,
     "start_time": "2024-07-03T12:35:47.968562",
     "status": "completed"
    },
    "tags": []
   },
   "outputs": [],
   "source": [
    "train_data = pd.read_csv('/kaggle/input/playground-series-s4e7/train.csv', index_col='id')\n",
    "test_data = pd.read_csv('/kaggle/input/playground-series-s4e7/test.csv', index_col='id')\n",
    "sample_sub = pd.read_csv(\"/kaggle/input/playground-series-s4e7/sample_submission.csv\")"
   ]
  },
  {
   "cell_type": "markdown",
   "id": "5f7e3cf7",
   "metadata": {
    "papermill": {
     "duration": 0.01058,
     "end_time": "2024-07-03T12:36:22.828467",
     "exception": false,
     "start_time": "2024-07-03T12:36:22.817887",
     "status": "completed"
    },
    "tags": []
   },
   "source": [
    "## First Look on the Data"
   ]
  },
  {
   "cell_type": "code",
   "execution_count": 3,
   "id": "df316f6f",
   "metadata": {
    "execution": {
     "iopub.execute_input": "2024-07-03T12:36:22.852084Z",
     "iopub.status.busy": "2024-07-03T12:36:22.851228Z",
     "iopub.status.idle": "2024-07-03T12:36:22.859088Z",
     "shell.execute_reply": "2024-07-03T12:36:22.857995Z"
    },
    "papermill": {
     "duration": 0.022167,
     "end_time": "2024-07-03T12:36:22.861418",
     "exception": false,
     "start_time": "2024-07-03T12:36:22.839251",
     "status": "completed"
    },
    "tags": []
   },
   "outputs": [
    {
     "data": {
      "text/plain": [
       "' Training data shape: (11504798, 11), --- Test data shape: (7669866, 10)'"
      ]
     },
     "execution_count": 3,
     "metadata": {},
     "output_type": "execute_result"
    }
   ],
   "source": [
    "f\" Training data shape: {train_data.shape}, --- Test data shape: {test_data.shape}\""
   ]
  },
  {
   "cell_type": "code",
   "execution_count": 4,
   "id": "754e03e9",
   "metadata": {
    "execution": {
     "iopub.execute_input": "2024-07-03T12:36:22.885473Z",
     "iopub.status.busy": "2024-07-03T12:36:22.885037Z",
     "iopub.status.idle": "2024-07-03T12:36:23.009163Z",
     "shell.execute_reply": "2024-07-03T12:36:23.008076Z"
    },
    "papermill": {
     "duration": 0.139133,
     "end_time": "2024-07-03T12:36:23.011408",
     "exception": false,
     "start_time": "2024-07-03T12:36:22.872275",
     "status": "completed"
    },
    "tags": []
   },
   "outputs": [
    {
     "data": {
      "text/plain": [
       "Response\n",
       "0    10089739\n",
       "1     1415059\n",
       "Name: count, dtype: int64"
      ]
     },
     "execution_count": 4,
     "metadata": {},
     "output_type": "execute_result"
    }
   ],
   "source": [
    "train_data.Response.value_counts()"
   ]
  },
  {
   "cell_type": "markdown",
   "id": "52ab32fd",
   "metadata": {
    "papermill": {
     "duration": 0.010502,
     "end_time": "2024-07-03T12:36:23.032888",
     "exception": false,
     "start_time": "2024-07-03T12:36:23.022386",
     "status": "completed"
    },
    "tags": []
   },
   "source": [
    "The amount of training data is huge and the target variable is inbalanced. We make a try with downsampling, such that we train the model on a balanced data set."
   ]
  },
  {
   "cell_type": "code",
   "execution_count": 5,
   "id": "4502eed5",
   "metadata": {
    "execution": {
     "iopub.execute_input": "2024-07-03T12:36:23.056551Z",
     "iopub.status.busy": "2024-07-03T12:36:23.056127Z",
     "iopub.status.idle": "2024-07-03T12:36:23.061258Z",
     "shell.execute_reply": "2024-07-03T12:36:23.059919Z"
    },
    "papermill": {
     "duration": 0.019785,
     "end_time": "2024-07-03T12:36:23.063599",
     "exception": false,
     "start_time": "2024-07-03T12:36:23.043814",
     "status": "completed"
    },
    "tags": []
   },
   "outputs": [],
   "source": [
    "n_splits, random_state = 5, 904"
   ]
  },
  {
   "cell_type": "code",
   "execution_count": 6,
   "id": "aa24ad80",
   "metadata": {
    "execution": {
     "iopub.execute_input": "2024-07-03T12:36:23.087063Z",
     "iopub.status.busy": "2024-07-03T12:36:23.086671Z",
     "iopub.status.idle": "2024-07-03T12:36:23.109694Z",
     "shell.execute_reply": "2024-07-03T12:36:23.108582Z"
    },
    "papermill": {
     "duration": 0.03763,
     "end_time": "2024-07-03T12:36:23.112136",
     "exception": false,
     "start_time": "2024-07-03T12:36:23.074506",
     "status": "completed"
    },
    "tags": []
   },
   "outputs": [
    {
     "data": {
      "text/html": [
       "<div>\n",
       "<style scoped>\n",
       "    .dataframe tbody tr th:only-of-type {\n",
       "        vertical-align: middle;\n",
       "    }\n",
       "\n",
       "    .dataframe tbody tr th {\n",
       "        vertical-align: top;\n",
       "    }\n",
       "\n",
       "    .dataframe thead th {\n",
       "        text-align: right;\n",
       "    }\n",
       "</style>\n",
       "<table border=\"1\" class=\"dataframe\">\n",
       "  <thead>\n",
       "    <tr style=\"text-align: right;\">\n",
       "      <th></th>\n",
       "      <th>Gender</th>\n",
       "      <th>Age</th>\n",
       "      <th>Driving_License</th>\n",
       "      <th>Region_Code</th>\n",
       "      <th>Previously_Insured</th>\n",
       "      <th>Vehicle_Age</th>\n",
       "      <th>Vehicle_Damage</th>\n",
       "      <th>Annual_Premium</th>\n",
       "      <th>Policy_Sales_Channel</th>\n",
       "      <th>Vintage</th>\n",
       "      <th>Response</th>\n",
       "    </tr>\n",
       "    <tr>\n",
       "      <th>id</th>\n",
       "      <th></th>\n",
       "      <th></th>\n",
       "      <th></th>\n",
       "      <th></th>\n",
       "      <th></th>\n",
       "      <th></th>\n",
       "      <th></th>\n",
       "      <th></th>\n",
       "      <th></th>\n",
       "      <th></th>\n",
       "      <th></th>\n",
       "    </tr>\n",
       "  </thead>\n",
       "  <tbody>\n",
       "    <tr>\n",
       "      <th>0</th>\n",
       "      <td>Male</td>\n",
       "      <td>21</td>\n",
       "      <td>1</td>\n",
       "      <td>35.0</td>\n",
       "      <td>0</td>\n",
       "      <td>1-2 Year</td>\n",
       "      <td>Yes</td>\n",
       "      <td>65101.0</td>\n",
       "      <td>124.0</td>\n",
       "      <td>187</td>\n",
       "      <td>0</td>\n",
       "    </tr>\n",
       "    <tr>\n",
       "      <th>1</th>\n",
       "      <td>Male</td>\n",
       "      <td>43</td>\n",
       "      <td>1</td>\n",
       "      <td>28.0</td>\n",
       "      <td>0</td>\n",
       "      <td>&gt; 2 Years</td>\n",
       "      <td>Yes</td>\n",
       "      <td>58911.0</td>\n",
       "      <td>26.0</td>\n",
       "      <td>288</td>\n",
       "      <td>1</td>\n",
       "    </tr>\n",
       "    <tr>\n",
       "      <th>2</th>\n",
       "      <td>Female</td>\n",
       "      <td>25</td>\n",
       "      <td>1</td>\n",
       "      <td>14.0</td>\n",
       "      <td>1</td>\n",
       "      <td>&lt; 1 Year</td>\n",
       "      <td>No</td>\n",
       "      <td>38043.0</td>\n",
       "      <td>152.0</td>\n",
       "      <td>254</td>\n",
       "      <td>0</td>\n",
       "    </tr>\n",
       "    <tr>\n",
       "      <th>3</th>\n",
       "      <td>Female</td>\n",
       "      <td>35</td>\n",
       "      <td>1</td>\n",
       "      <td>1.0</td>\n",
       "      <td>0</td>\n",
       "      <td>1-2 Year</td>\n",
       "      <td>Yes</td>\n",
       "      <td>2630.0</td>\n",
       "      <td>156.0</td>\n",
       "      <td>76</td>\n",
       "      <td>0</td>\n",
       "    </tr>\n",
       "    <tr>\n",
       "      <th>4</th>\n",
       "      <td>Female</td>\n",
       "      <td>36</td>\n",
       "      <td>1</td>\n",
       "      <td>15.0</td>\n",
       "      <td>1</td>\n",
       "      <td>1-2 Year</td>\n",
       "      <td>No</td>\n",
       "      <td>31951.0</td>\n",
       "      <td>152.0</td>\n",
       "      <td>294</td>\n",
       "      <td>0</td>\n",
       "    </tr>\n",
       "  </tbody>\n",
       "</table>\n",
       "</div>"
      ],
      "text/plain": [
       "    Gender  Age  Driving_License  Region_Code  Previously_Insured Vehicle_Age  \\\n",
       "id                                                                              \n",
       "0     Male   21                1         35.0                   0    1-2 Year   \n",
       "1     Male   43                1         28.0                   0   > 2 Years   \n",
       "2   Female   25                1         14.0                   1    < 1 Year   \n",
       "3   Female   35                1          1.0                   0    1-2 Year   \n",
       "4   Female   36                1         15.0                   1    1-2 Year   \n",
       "\n",
       "   Vehicle_Damage  Annual_Premium  Policy_Sales_Channel  Vintage  Response  \n",
       "id                                                                          \n",
       "0             Yes         65101.0                 124.0      187         0  \n",
       "1             Yes         58911.0                  26.0      288         1  \n",
       "2              No         38043.0                 152.0      254         0  \n",
       "3             Yes          2630.0                 156.0       76         0  \n",
       "4              No         31951.0                 152.0      294         0  "
      ]
     },
     "execution_count": 6,
     "metadata": {},
     "output_type": "execute_result"
    }
   ],
   "source": [
    "train_data.head()"
   ]
  },
  {
   "cell_type": "markdown",
   "id": "f21514b1",
   "metadata": {
    "papermill": {
     "duration": 0.010924,
     "end_time": "2024-07-03T12:36:23.134280",
     "exception": false,
     "start_time": "2024-07-03T12:36:23.123356",
     "status": "completed"
    },
    "tags": []
   },
   "source": [
    "There are several categorical features in the data set. Obviously, *Gender*, *Vehicle_Age* and *Vehicle_Damage* are categorical, where *Vehicle_Age* is an ordinal feature. Further categorical feature are *Driving_License*, *Region_Code*, *Previously_insured* and *Policy_Sales_Channel*."
   ]
  },
  {
   "cell_type": "code",
   "execution_count": 7,
   "id": "26711eb6",
   "metadata": {
    "execution": {
     "iopub.execute_input": "2024-07-03T12:36:23.158230Z",
     "iopub.status.busy": "2024-07-03T12:36:23.157394Z",
     "iopub.status.idle": "2024-07-03T12:36:23.165931Z",
     "shell.execute_reply": "2024-07-03T12:36:23.164928Z"
    },
    "papermill": {
     "duration": 0.022974,
     "end_time": "2024-07-03T12:36:23.168257",
     "exception": false,
     "start_time": "2024-07-03T12:36:23.145283",
     "status": "completed"
    },
    "tags": []
   },
   "outputs": [
    {
     "data": {
      "text/plain": [
       "Gender                   object\n",
       "Age                       int64\n",
       "Driving_License           int64\n",
       "Region_Code             float64\n",
       "Previously_Insured        int64\n",
       "Vehicle_Age              object\n",
       "Vehicle_Damage           object\n",
       "Annual_Premium          float64\n",
       "Policy_Sales_Channel    float64\n",
       "Vintage                   int64\n",
       "Response                  int64\n",
       "dtype: object"
      ]
     },
     "execution_count": 7,
     "metadata": {},
     "output_type": "execute_result"
    }
   ],
   "source": [
    "train_data.dtypes"
   ]
  },
  {
   "cell_type": "markdown",
   "id": "4130a053",
   "metadata": {
    "papermill": {
     "duration": 0.010832,
     "end_time": "2024-07-03T12:36:23.190368",
     "exception": false,
     "start_time": "2024-07-03T12:36:23.179536",
     "status": "completed"
    },
    "tags": []
   },
   "source": [
    "We single out the following features as categorical for further feature engineering:"
   ]
  },
  {
   "cell_type": "code",
   "execution_count": 8,
   "id": "b77a7dbe",
   "metadata": {
    "execution": {
     "iopub.execute_input": "2024-07-03T12:36:23.214808Z",
     "iopub.status.busy": "2024-07-03T12:36:23.214385Z",
     "iopub.status.idle": "2024-07-03T12:36:23.219507Z",
     "shell.execute_reply": "2024-07-03T12:36:23.218362Z"
    },
    "papermill": {
     "duration": 0.02005,
     "end_time": "2024-07-03T12:36:23.221956",
     "exception": false,
     "start_time": "2024-07-03T12:36:23.201906",
     "status": "completed"
    },
    "tags": []
   },
   "outputs": [],
   "source": [
    "cat_features = ['Gender', 'Vehicle_Age', 'Vehicle_Damage']"
   ]
  },
  {
   "cell_type": "markdown",
   "id": "f2cccda0",
   "metadata": {
    "papermill": {
     "duration": 0.011117,
     "end_time": "2024-07-03T12:36:23.244398",
     "exception": false,
     "start_time": "2024-07-03T12:36:23.233281",
     "status": "completed"
    },
    "tags": []
   },
   "source": [
    "# Preprocessing"
   ]
  },
  {
   "cell_type": "markdown",
   "id": "8435e0ab",
   "metadata": {
    "papermill": {
     "duration": 0.010954,
     "end_time": "2024-07-03T12:36:23.266570",
     "exception": false,
     "start_time": "2024-07-03T12:36:23.255616",
     "status": "completed"
    },
    "tags": []
   },
   "source": [
    "## Downsampling"
   ]
  },
  {
   "cell_type": "code",
   "execution_count": 9,
   "id": "8572f771",
   "metadata": {
    "execution": {
     "iopub.execute_input": "2024-07-03T12:36:23.291123Z",
     "iopub.status.busy": "2024-07-03T12:36:23.290625Z",
     "iopub.status.idle": "2024-07-03T12:36:25.785005Z",
     "shell.execute_reply": "2024-07-03T12:36:25.783759Z"
    },
    "papermill": {
     "duration": 2.509507,
     "end_time": "2024-07-03T12:36:25.787463",
     "exception": false,
     "start_time": "2024-07-03T12:36:23.277956",
     "status": "completed"
    },
    "tags": []
   },
   "outputs": [
    {
     "name": "stdout",
     "output_type": "stream",
     "text": [
      "New shape of training data:  (2830118, 11)\n"
     ]
    }
   ],
   "source": [
    "majority_class = train_data[train_data['Response'] == 0]\n",
    "minority_class = train_data[train_data['Response'] == 1]\n",
    "sample_size = len(minority_class)\n",
    "majority_sample = majority_class.sample(sample_size)\n",
    "X = pd.concat([majority_sample, minority_class], axis=0)\n",
    "print(\"New shape of training data: \", X.shape)"
   ]
  },
  {
   "cell_type": "markdown",
   "id": "7207a265",
   "metadata": {
    "papermill": {
     "duration": 0.01101,
     "end_time": "2024-07-03T12:36:25.809746",
     "exception": false,
     "start_time": "2024-07-03T12:36:25.798736",
     "status": "completed"
    },
    "tags": []
   },
   "source": [
    "## Feature Engineering"
   ]
  },
  {
   "cell_type": "markdown",
   "id": "260b5e1f",
   "metadata": {
    "papermill": {
     "duration": 0.010839,
     "end_time": "2024-07-03T12:36:25.831820",
     "exception": false,
     "start_time": "2024-07-03T12:36:25.820981",
     "status": "completed"
    },
    "tags": []
   },
   "source": [
    "There are several ways to encode the categorical features. For now *Gender* and *Vehicle_Damage* is one-hot-encoded and since *Vehicle Age* is ordinal, we define it as integer. The other variables are encoded to optimize memory usage (see [this notebook](https://www.kaggle.com/code/jmascacibar/optimizing-memory-usage-with-insurance-cross-sell))"
   ]
  },
  {
   "cell_type": "code",
   "execution_count": 10,
   "id": "652a4af9",
   "metadata": {
    "execution": {
     "iopub.execute_input": "2024-07-03T12:36:25.856100Z",
     "iopub.status.busy": "2024-07-03T12:36:25.855715Z",
     "iopub.status.idle": "2024-07-03T12:36:30.610440Z",
     "shell.execute_reply": "2024-07-03T12:36:30.609284Z"
    },
    "papermill": {
     "duration": 4.770021,
     "end_time": "2024-07-03T12:36:30.613004",
     "exception": false,
     "start_time": "2024-07-03T12:36:25.842983",
     "status": "completed"
    },
    "tags": []
   },
   "outputs": [],
   "source": [
    "def new_features(data):\n",
    "    df=data.copy()\n",
    "    df[cat_features] = df[cat_features].astype('category')\n",
    "    df[\"Vehicle_Age\"] = df[\"Vehicle_Age\"].cat.rename_categories({\"1-2 Year\": 1, \"< 1 Year\": 0, \"> 2 Years\": 2}).astype('int8')\n",
    "    df['Gender'] = df['Gender'].cat.rename_categories({'Male': 0, 'Female': 1}).astype('int8')\n",
    "    df['Vehicle_Damage'] = df['Vehicle_Damage'].cat.rename_categories({'No': 0, 'Yes': 1}).astype('int8')\n",
    "    df['Age'] = df['Age'].astype('int8')\n",
    "    df['Driving_License'] = df['Driving_License'].astype('int8')\n",
    "    df['Region_Code'] = df['Region_Code'].astype('int8')\n",
    "    df['Previously_Insured'] = df['Previously_Insured'].astype('int8')\n",
    "    df['Annual_Premium'] = df['Annual_Premium'].astype('int32')\n",
    "    df['Policy_Sales_Channel'] = df['Policy_Sales_Channel'].astype('int16')\n",
    "    df['Vintage'] = df['Vintage'].astype('int16')\n",
    "    return df\n",
    "\n",
    "\n",
    "X = new_features(X)\n",
    "test_data = new_features(test_data)\n",
    "X['Response'] = X['Response'].astype('int8')"
   ]
  },
  {
   "cell_type": "code",
   "execution_count": 11,
   "id": "c9b3db6b",
   "metadata": {
    "execution": {
     "iopub.execute_input": "2024-07-03T12:36:30.696561Z",
     "iopub.status.busy": "2024-07-03T12:36:30.696124Z",
     "iopub.status.idle": "2024-07-03T12:36:30.702209Z",
     "shell.execute_reply": "2024-07-03T12:36:30.701078Z"
    },
    "papermill": {
     "duration": 0.079697,
     "end_time": "2024-07-03T12:36:30.704569",
     "exception": false,
     "start_time": "2024-07-03T12:36:30.624872",
     "status": "completed"
    },
    "tags": []
   },
   "outputs": [],
   "source": [
    "target = 'Response'\n",
    "y = X.pop(target)"
   ]
  },
  {
   "cell_type": "markdown",
   "id": "55e7b394",
   "metadata": {
    "papermill": {
     "duration": 0.011185,
     "end_time": "2024-07-03T12:36:30.727268",
     "exception": false,
     "start_time": "2024-07-03T12:36:30.716083",
     "status": "completed"
    },
    "tags": []
   },
   "source": [
    "## EDA"
   ]
  },
  {
   "cell_type": "markdown",
   "id": "05646eb2",
   "metadata": {
    "papermill": {
     "duration": 0.011153,
     "end_time": "2024-07-03T12:36:30.749815",
     "exception": false,
     "start_time": "2024-07-03T12:36:30.738662",
     "status": "completed"
    },
    "tags": []
   },
   "source": [
    "## Mutual Information Importance"
   ]
  },
  {
   "cell_type": "code",
   "execution_count": 12,
   "id": "0e52ef9f",
   "metadata": {
    "execution": {
     "iopub.execute_input": "2024-07-03T12:36:30.778248Z",
     "iopub.status.busy": "2024-07-03T12:36:30.777831Z",
     "iopub.status.idle": "2024-07-03T12:36:35.265791Z",
     "shell.execute_reply": "2024-07-03T12:36:35.264628Z"
    },
    "papermill": {
     "duration": 4.504313,
     "end_time": "2024-07-03T12:36:35.268540",
     "exception": false,
     "start_time": "2024-07-03T12:36:30.764227",
     "status": "completed"
    },
    "tags": []
   },
   "outputs": [],
   "source": [
    "X_small = X.copy()\n",
    "_, sample_indices = next(StratifiedKFold(\n",
    "    n_splits=100, shuffle=True, random_state=42).split(X, y.astype('str')))\n",
    "X_small = X_small.iloc[sample_indices]\n",
    "y_small = y.iloc[sample_indices]\n",
    "\n",
    "#add noise feature\n",
    "rng = np.random.default_rng(0)\n",
    "X_small[F'cat_noise'] = rng.choice(5, size=len(X_small))"
   ]
  },
  {
   "cell_type": "code",
   "execution_count": 13,
   "id": "8999c1e3",
   "metadata": {
    "execution": {
     "iopub.execute_input": "2024-07-03T12:36:35.294237Z",
     "iopub.status.busy": "2024-07-03T12:36:35.293830Z",
     "iopub.status.idle": "2024-07-03T12:36:36.810217Z",
     "shell.execute_reply": "2024-07-03T12:36:36.808839Z"
    },
    "papermill": {
     "duration": 1.532651,
     "end_time": "2024-07-03T12:36:36.812904",
     "exception": false,
     "start_time": "2024-07-03T12:36:35.280253",
     "status": "completed"
    },
    "tags": []
   },
   "outputs": [],
   "source": [
    "mi = mutual_info_classif(X_small, y_small, random_state=6)\n",
    "mi = pd.DataFrame({\n",
    "        'Features': X_small.columns,\n",
    "        'Mutual information': mi*100\n",
    "    })\n",
    "mi = mi.sort_values(['Mutual information'], ascending=False).reset_index(drop=True)"
   ]
  },
  {
   "cell_type": "code",
   "execution_count": 14,
   "id": "dbcf37c2",
   "metadata": {
    "execution": {
     "iopub.execute_input": "2024-07-03T12:36:36.838527Z",
     "iopub.status.busy": "2024-07-03T12:36:36.838121Z",
     "iopub.status.idle": "2024-07-03T12:36:36.842873Z",
     "shell.execute_reply": "2024-07-03T12:36:36.841827Z"
    },
    "papermill": {
     "duration": 0.020137,
     "end_time": "2024-07-03T12:36:36.845149",
     "exception": false,
     "start_time": "2024-07-03T12:36:36.825012",
     "status": "completed"
    },
    "tags": []
   },
   "outputs": [],
   "source": [
    "# plt.figure(figsize=(16, 10))\n",
    "# ax = sns.barplot(x=\"Mutual information\", y=\"Features\", data=mi)\n",
    "# ax.set_xscale(\"log\")\n",
    "# ax.axvline(1,ls='--',color='k')\n",
    "# plt.title(\"Crossvalidated Mutual Information\", size=20)\n",
    "# plt.show()"
   ]
  },
  {
   "cell_type": "markdown",
   "id": "1a95e10d",
   "metadata": {
    "papermill": {
     "duration": 0.011429,
     "end_time": "2024-07-03T12:36:36.868682",
     "exception": false,
     "start_time": "2024-07-03T12:36:36.857253",
     "status": "completed"
    },
    "tags": []
   },
   "source": [
    "All features contain more mutual information with the target than the noise feature, thus all the feature are potentially beneficial for the model."
   ]
  },
  {
   "cell_type": "markdown",
   "id": "2c8182da",
   "metadata": {
    "papermill": {
     "duration": 0.011375,
     "end_time": "2024-07-03T12:36:36.891901",
     "exception": false,
     "start_time": "2024-07-03T12:36:36.880526",
     "status": "completed"
    },
    "tags": []
   },
   "source": [
    "## Statistical Properties"
   ]
  },
  {
   "cell_type": "code",
   "execution_count": 15,
   "id": "ee325349",
   "metadata": {
    "execution": {
     "iopub.execute_input": "2024-07-03T12:36:36.917321Z",
     "iopub.status.busy": "2024-07-03T12:36:36.916899Z",
     "iopub.status.idle": "2024-07-03T12:36:36.922780Z",
     "shell.execute_reply": "2024-07-03T12:36:36.921662Z"
    },
    "papermill": {
     "duration": 0.021399,
     "end_time": "2024-07-03T12:36:36.925479",
     "exception": false,
     "start_time": "2024-07-03T12:36:36.904080",
     "status": "completed"
    },
    "tags": []
   },
   "outputs": [],
   "source": [
    "kfold = StratifiedKFold(n_splits=n_splits, shuffle = True, random_state=random_state)\n",
    "\n",
    "def cross_validate():\n",
    "    \"\"\"Compute out-of-fold and test predictions for a LGBM model.\n",
    "    \"\"\"\n",
    "    \n",
    "    start_time = datetime.datetime.now()\n",
    "    scores = []\n",
    "    oof_preds = np.zeros(len(y))\n",
    "    test_preds = np.zeros(len(test_data))\n",
    "    \n",
    "    for fold, (train_index, valid_index) in enumerate(kfold.split(X,y.astype(str))):\n",
    "                                                      \n",
    "        X_train = X.iloc[train_index]\n",
    "        y_train = y.iloc[train_index]\n",
    "        X_val = X.iloc[valid_index]\n",
    "        y_val = y.iloc[valid_index]\n",
    "        \n",
    "        m = clone(model)\n",
    "        m.fit(X_train, y_train, eval_set=[(X_val, y_val)])\n",
    "\n",
    "        y_pred = m.predict_proba(X_val)[:,1] #probability for Response == 1\n",
    "\n",
    "        score = roc_auc_score(y_val,  y_pred)\n",
    "        print(f\"# Fold {fold}: ROC-AUC-Score={score:.5f}\")\n",
    "        scores.append(score)\n",
    "        oof_preds[valid_index] += y_pred\n",
    "        test_preds = test_preds + m.predict_proba(test_data)[:,1]/kfold.get_n_splits()\n",
    "            \n",
    "    elapsed_time = datetime.datetime.now() - start_time\n",
    "    print(f\"#ROC-AUC mean: {np.array(scores).mean():.7f} (+- {np.array(scores).std():.7f})\"\n",
    "          f\"#elapsed time:   {int(np.round(elapsed_time.total_seconds() / 60))} min\")\n",
    "\n",
    "    return oof_preds, test_preds"
   ]
  },
  {
   "cell_type": "code",
   "execution_count": 16,
   "id": "58b37cc5",
   "metadata": {
    "execution": {
     "iopub.execute_input": "2024-07-03T12:36:36.950941Z",
     "iopub.status.busy": "2024-07-03T12:36:36.950563Z",
     "iopub.status.idle": "2024-07-03T12:36:36.955297Z",
     "shell.execute_reply": "2024-07-03T12:36:36.954248Z"
    },
    "papermill": {
     "duration": 0.020085,
     "end_time": "2024-07-03T12:36:36.957766",
     "exception": false,
     "start_time": "2024-07-03T12:36:36.937681",
     "status": "completed"
    },
    "tags": []
   },
   "outputs": [],
   "source": [
    "X.describe()"
   ]
  },
  {
   "cell_type": "code",
   "execution_count": 17,
   "id": "98456414",
   "metadata": {
    "execution": {
     "iopub.execute_input": "2024-07-03T12:36:36.982692Z",
     "iopub.status.busy": "2024-07-03T12:36:36.982289Z",
     "iopub.status.idle": "2024-07-03T12:36:37.499597Z",
     "shell.execute_reply": "2024-07-03T12:36:37.498478Z"
    },
    "papermill": {
     "duration": 0.532838,
     "end_time": "2024-07-03T12:36:37.502225",
     "exception": false,
     "start_time": "2024-07-03T12:36:36.969387",
     "status": "completed"
    },
    "tags": []
   },
   "outputs": [],
   "source": [
    "from sklearn.model_selection import train_test_split\n",
    "X_train, X_test, y_train, y_test = train_test_split(X, y, test_size = 0.2, random_state = 23)"
   ]
  },
  {
   "cell_type": "markdown",
   "id": "4a07fa1c",
   "metadata": {
    "papermill": {
     "duration": 0.011113,
     "end_time": "2024-07-03T12:36:37.524707",
     "exception": false,
     "start_time": "2024-07-03T12:36:37.513594",
     "status": "completed"
    },
    "tags": []
   },
   "source": [
    "# Modeling"
   ]
  },
  {
   "cell_type": "markdown",
   "id": "01c1a2e5",
   "metadata": {
    "papermill": {
     "duration": 0.011021,
     "end_time": "2024-07-03T12:36:37.547190",
     "exception": false,
     "start_time": "2024-07-03T12:36:37.536169",
     "status": "completed"
    },
    "tags": []
   },
   "source": [
    "## Crossvalidation Function"
   ]
  },
  {
   "cell_type": "markdown",
   "id": "297fd5a4",
   "metadata": {
    "papermill": {
     "duration": 0.01099,
     "end_time": "2024-07-03T12:36:37.569402",
     "exception": false,
     "start_time": "2024-07-03T12:36:37.558412",
     "status": "completed"
    },
    "tags": []
   },
   "source": [
    "## LGBM Parameters"
   ]
  },
  {
   "cell_type": "code",
   "execution_count": 18,
   "id": "91297c52",
   "metadata": {
    "execution": {
     "iopub.execute_input": "2024-07-03T12:36:37.593644Z",
     "iopub.status.busy": "2024-07-03T12:36:37.593288Z",
     "iopub.status.idle": "2024-07-03T12:36:37.598068Z",
     "shell.execute_reply": "2024-07-03T12:36:37.596898Z"
    },
    "papermill": {
     "duration": 0.019604,
     "end_time": "2024-07-03T12:36:37.600386",
     "exception": false,
     "start_time": "2024-07-03T12:36:37.580782",
     "status": "completed"
    },
    "tags": []
   },
   "outputs": [],
   "source": [
    "lgbm_params = {'n_estimators': 2000,\n",
    "               \"verbose\": -1,\n",
    "               \"eval_metric\": \"auc\",\n",
    "               \"early_stopping_round\": 50,\n",
    "               'depth': 6,\n",
    "               'num_leaves': 171,\n",
    "               'learning_rate': 0.02644045021671239,\n",
    "               'min_child_samples': 72,\n",
    "               'subsample': 0.5065444622662555,\n",
    "               'colsample_bytree': 0.5395763161430562,\n",
    "               'lambda_l1': 3.3153753990389056e-08,\n",
    "               'lambda_l2': 2.160332353116391e-08}"
   ]
  },
  {
   "cell_type": "markdown",
   "id": "7fbcf10e",
   "metadata": {
    "papermill": {
     "duration": 0.011519,
     "end_time": "2024-07-03T12:36:37.624002",
     "exception": false,
     "start_time": "2024-07-03T12:36:37.612483",
     "status": "completed"
    },
    "tags": []
   },
   "source": [
    "## Run the Model"
   ]
  },
  {
   "cell_type": "code",
   "execution_count": 19,
   "id": "1d8f440e",
   "metadata": {
    "execution": {
     "iopub.execute_input": "2024-07-03T12:36:37.649016Z",
     "iopub.status.busy": "2024-07-03T12:36:37.648235Z",
     "iopub.status.idle": "2024-07-03T12:36:37.652774Z",
     "shell.execute_reply": "2024-07-03T12:36:37.651631Z"
    },
    "papermill": {
     "duration": 0.019469,
     "end_time": "2024-07-03T12:36:37.654960",
     "exception": false,
     "start_time": "2024-07-03T12:36:37.635491",
     "status": "completed"
    },
    "tags": []
   },
   "outputs": [],
   "source": [
    "model = LGBMClassifier(**lgbm_params)\n",
    "lgbm_oof, lgbm_test = cross_validate()"
   ]
  },
  {
   "cell_type": "markdown",
   "id": "043f56ae",
   "metadata": {
    "papermill": {
     "duration": 0.011135,
     "end_time": "2024-07-03T12:36:37.677620",
     "exception": false,
     "start_time": "2024-07-03T12:36:37.666485",
     "status": "completed"
    },
    "tags": []
   },
   "source": [
    "# Evaluation"
   ]
  },
  {
   "cell_type": "markdown",
   "id": "a751fad0",
   "metadata": {
    "papermill": {
     "duration": 0.01131,
     "end_time": "2024-07-03T12:36:37.700386",
     "exception": false,
     "start_time": "2024-07-03T12:36:37.689076",
     "status": "completed"
    },
    "tags": []
   },
   "source": [
    "... later ..."
   ]
  },
  {
   "cell_type": "code",
   "execution_count": 20,
   "id": "874aa3fe",
   "metadata": {
    "execution": {
     "iopub.execute_input": "2024-07-03T12:36:37.725906Z",
     "iopub.status.busy": "2024-07-03T12:36:37.724783Z",
     "iopub.status.idle": "2024-07-03T12:36:37.729793Z",
     "shell.execute_reply": "2024-07-03T12:36:37.728708Z"
    },
    "papermill": {
     "duration": 0.020029,
     "end_time": "2024-07-03T12:36:37.732002",
     "exception": false,
     "start_time": "2024-07-03T12:36:37.711973",
     "status": "completed"
    },
    "tags": []
   },
   "outputs": [],
   "source": [
    "plt.figure(figsize=(10, 8))\n",
    "plt.plot(roc_curve(y, lgbm_oof))\n",
    "plt.plot([0, 1], [0, 1], 'k--')\n",
    "plt.xlabel('False Positive Rate')\n",
    "plt.ylabel('True Positive Rate')\n",
    "plt.title('ROC Curve')\n",
    "plt.legend(loc='best')\n",
    "plt.show()"
   ]
  },
  {
   "cell_type": "code",
   "execution_count": 21,
   "id": "dd96b09b",
   "metadata": {
    "execution": {
     "iopub.execute_input": "2024-07-03T12:36:37.756702Z",
     "iopub.status.busy": "2024-07-03T12:36:37.756310Z",
     "iopub.status.idle": "2024-07-03T12:36:37.936448Z",
     "shell.execute_reply": "2024-07-03T12:36:37.935275Z"
    },
    "papermill": {
     "duration": 0.195459,
     "end_time": "2024-07-03T12:36:37.939066",
     "exception": false,
     "start_time": "2024-07-03T12:36:37.743607",
     "status": "completed"
    },
    "tags": []
   },
   "outputs": [],
   "source": [
    "import time\n",
    "import matplotlib.pyplot as plt\n",
    "from xgboost import XGBClassifier\n",
    "import xgboost as xgb\n",
    "from sklearn.metrics import accuracy_score,f1_score,confusion_matrix,roc_auc_score,classification_report"
   ]
  },
  {
   "cell_type": "code",
   "execution_count": 22,
   "id": "5d9a20ec",
   "metadata": {
    "execution": {
     "iopub.execute_input": "2024-07-03T12:36:37.964551Z",
     "iopub.status.busy": "2024-07-03T12:36:37.963803Z",
     "iopub.status.idle": "2024-07-03T12:44:21.522072Z",
     "shell.execute_reply": "2024-07-03T12:44:21.520782Z"
    },
    "papermill": {
     "duration": 463.573386,
     "end_time": "2024-07-03T12:44:21.524471",
     "exception": false,
     "start_time": "2024-07-03T12:36:37.951085",
     "status": "completed"
    },
    "tags": []
   },
   "outputs": [
    {
     "name": "stderr",
     "output_type": "stream",
     "text": [
      "/opt/conda/lib/python3.10/site-packages/xgboost/sklearn.py:889: UserWarning: `early_stopping_rounds` in `fit` method is deprecated for better compatibility with scikit-learn, use `early_stopping_rounds` in constructor or`set_params` instead.\n",
      "  warnings.warn(\n"
     ]
    },
    {
     "name": "stdout",
     "output_type": "stream",
     "text": [
      "[0]\tvalidation_0-auc:0.81906\n",
      "[50]\tvalidation_0-auc:0.87623\n",
      "[100]\tvalidation_0-auc:0.88116\n",
      "[150]\tvalidation_0-auc:0.88268\n",
      "[200]\tvalidation_0-auc:0.88374\n",
      "[250]\tvalidation_0-auc:0.88450\n",
      "[300]\tvalidation_0-auc:0.88485\n",
      "[350]\tvalidation_0-auc:0.88505\n",
      "[400]\tvalidation_0-auc:0.88533\n",
      "[450]\tvalidation_0-auc:0.88582\n",
      "[500]\tvalidation_0-auc:0.88612\n",
      "[550]\tvalidation_0-auc:0.88627\n",
      "[600]\tvalidation_0-auc:0.88638\n",
      "[650]\tvalidation_0-auc:0.88666\n",
      "[700]\tvalidation_0-auc:0.88677\n",
      "[750]\tvalidation_0-auc:0.88695\n",
      "[800]\tvalidation_0-auc:0.88692\n",
      "[816]\tvalidation_0-auc:0.88692\n",
      "Best iteration: 767\n",
      "Validation AUC: 0.88699\n",
      "CPU times: user 29min 29s, sys: 6.37 s, total: 29min 35s\n",
      "Wall time: 7min 43s\n"
     ]
    }
   ],
   "source": [
    "%%time\n",
    "\n",
    "model = XGBClassifier(\n",
    "    objective='binary:logistic',\n",
    "    eval_metric='auc',\n",
    "    eta=0.05,\n",
    "    alpha=0.1269124823585012,\n",
    "    subsample=0.8345882521794742,\n",
    "    colsample_bytree=0.44270196445757065,\n",
    "    max_depth=15,\n",
    "    min_child_weight=8,\n",
    "    gamma=1.308021832047589e-08,\n",
    "    random_state=random_state,\n",
    "    max_bin=50000, #a weird max_bin, for reference: https://www.kaggle.com/competitions/playground-series-s4e7/discussion/516265\n",
    "    enable_categorical=True,\n",
    "    n_estimators=10000\n",
    ")\n",
    "\n",
    "model.fit(\n",
    "    X_train,\n",
    "    y_train,\n",
    "    eval_set=[(X_test, y_test)],\n",
    "    early_stopping_rounds=50,\n",
    "    verbose=50\n",
    ")\n",
    "\n",
    "print(\"Best iteration:\", model.best_iteration)\n",
    "\n",
    "booster = model.get_booster()\n",
    "y_pred_prob = booster.predict(xgb.DMatrix(X_test, enable_categorical=True), iteration_range=(0, model.best_iteration + 1))\n",
    "auc = roc_auc_score(y_test, y_pred_prob)\n",
    "print(f\"Validation AUC: {auc:.5f}\")"
   ]
  },
  {
   "cell_type": "code",
   "execution_count": 23,
   "id": "6094a65f",
   "metadata": {
    "execution": {
     "iopub.execute_input": "2024-07-03T12:44:21.552080Z",
     "iopub.status.busy": "2024-07-03T12:44:21.551688Z",
     "iopub.status.idle": "2024-07-03T12:44:21.556207Z",
     "shell.execute_reply": "2024-07-03T12:44:21.555217Z"
    },
    "papermill": {
     "duration": 0.020751,
     "end_time": "2024-07-03T12:44:21.558459",
     "exception": false,
     "start_time": "2024-07-03T12:44:21.537708",
     "status": "completed"
    },
    "tags": []
   },
   "outputs": [],
   "source": [
    "rf = RandomForestClassifier()\n",
    "rf.fit(X_train, y_train)"
   ]
  },
  {
   "cell_type": "code",
   "execution_count": 24,
   "id": "b1341a92",
   "metadata": {
    "execution": {
     "iopub.execute_input": "2024-07-03T12:44:21.585740Z",
     "iopub.status.busy": "2024-07-03T12:44:21.585349Z",
     "iopub.status.idle": "2024-07-03T12:44:21.590169Z",
     "shell.execute_reply": "2024-07-03T12:44:21.589142Z"
    },
    "papermill": {
     "duration": 0.021055,
     "end_time": "2024-07-03T12:44:21.592383",
     "exception": false,
     "start_time": "2024-07-03T12:44:21.571328",
     "status": "completed"
    },
    "tags": []
   },
   "outputs": [],
   "source": [
    "y_pred_rf = rf.predict(X_test)\n",
    "RF_probability = rf.predict_proba(X_test)[:,1]"
   ]
  },
  {
   "cell_type": "code",
   "execution_count": 25,
   "id": "884374e5",
   "metadata": {
    "execution": {
     "iopub.execute_input": "2024-07-03T12:44:21.620096Z",
     "iopub.status.busy": "2024-07-03T12:44:21.619121Z",
     "iopub.status.idle": "2024-07-03T12:44:21.623815Z",
     "shell.execute_reply": "2024-07-03T12:44:21.622757Z"
    },
    "papermill": {
     "duration": 0.020791,
     "end_time": "2024-07-03T12:44:21.625954",
     "exception": false,
     "start_time": "2024-07-03T12:44:21.605163",
     "status": "completed"
    },
    "tags": []
   },
   "outputs": [],
   "source": [
    "print(\"Accuracy Score: \", accuracy_score(y_test, y_pred_rf))\n",
    "print(\"AUC_RF: \", roc_auc_score(y_pred_rf,y_test))\n",
    "print(\"F1-Score: \", f1_score(y_test, y_pred_rf, average= None))\n",
    "print(classification_report(y_test, y_pred_rf))"
   ]
  },
  {
   "cell_type": "code",
   "execution_count": 26,
   "id": "903dd86e",
   "metadata": {
    "execution": {
     "iopub.execute_input": "2024-07-03T12:44:21.653539Z",
     "iopub.status.busy": "2024-07-03T12:44:21.652734Z",
     "iopub.status.idle": "2024-07-03T12:44:21.657363Z",
     "shell.execute_reply": "2024-07-03T12:44:21.656332Z"
    },
    "papermill": {
     "duration": 0.020787,
     "end_time": "2024-07-03T12:44:21.659441",
     "exception": false,
     "start_time": "2024-07-03T12:44:21.638654",
     "status": "completed"
    },
    "tags": []
   },
   "outputs": [],
   "source": [
    "from sklearn.metrics import roc_curve\n",
    "fpr, tpr, _ = roc_curve(ytest, RF_probability)\n",
    "\n",
    "plt.title('Linear Regression ROC curve')\n",
    "plt.xlabel('FPR (Precision)')\n",
    "plt.ylabel('TPR (Recall)')\n",
    "\n",
    "plt.plot(fpr,tpr)\n",
    "plt.plot((0,1), ls='dashed',color='black')\n",
    "plt.show()"
   ]
  },
  {
   "cell_type": "code",
   "execution_count": 27,
   "id": "414ededa",
   "metadata": {
    "execution": {
     "iopub.execute_input": "2024-07-03T12:44:21.687020Z",
     "iopub.status.busy": "2024-07-03T12:44:21.686134Z",
     "iopub.status.idle": "2024-07-03T12:44:21.693024Z",
     "shell.execute_reply": "2024-07-03T12:44:21.692040Z"
    },
    "papermill": {
     "duration": 0.022896,
     "end_time": "2024-07-03T12:44:21.695196",
     "exception": false,
     "start_time": "2024-07-03T12:44:21.672300",
     "status": "completed"
    },
    "tags": []
   },
   "outputs": [
    {
     "data": {
      "text/plain": [
       "Index(['Gender', 'Age', 'Driving_License', 'Region_Code', 'Previously_Insured',\n",
       "       'Vehicle_Age', 'Vehicle_Damage', 'Annual_Premium',\n",
       "       'Policy_Sales_Channel', 'Vintage'],\n",
       "      dtype='object')"
      ]
     },
     "execution_count": 27,
     "metadata": {},
     "output_type": "execute_result"
    }
   ],
   "source": [
    "test_data.columns"
   ]
  },
  {
   "cell_type": "code",
   "execution_count": 28,
   "id": "e84a1d66",
   "metadata": {
    "execution": {
     "iopub.execute_input": "2024-07-03T12:44:21.723002Z",
     "iopub.status.busy": "2024-07-03T12:44:21.722066Z",
     "iopub.status.idle": "2024-07-03T12:44:23.053601Z",
     "shell.execute_reply": "2024-07-03T12:44:23.052636Z"
    },
    "papermill": {
     "duration": 1.34823,
     "end_time": "2024-07-03T12:44:23.056166",
     "exception": false,
     "start_time": "2024-07-03T12:44:21.707936",
     "status": "completed"
    },
    "tags": []
   },
   "outputs": [],
   "source": [
    "test = xgb.DMatrix(test_data, enable_categorical=True)"
   ]
  },
  {
   "cell_type": "code",
   "execution_count": 29,
   "id": "1fdef0a3",
   "metadata": {
    "execution": {
     "iopub.execute_input": "2024-07-03T12:44:23.085610Z",
     "iopub.status.busy": "2024-07-03T12:44:23.085211Z",
     "iopub.status.idle": "2024-07-03T12:49:06.135961Z",
     "shell.execute_reply": "2024-07-03T12:49:06.134770Z"
    },
    "papermill": {
     "duration": 283.06908,
     "end_time": "2024-07-03T12:49:06.138600",
     "exception": false,
     "start_time": "2024-07-03T12:44:23.069520",
     "status": "completed"
    },
    "tags": []
   },
   "outputs": [],
   "source": [
    "test_pred = booster.predict(test,iteration_range=(0, model.best_iteration + 1))"
   ]
  },
  {
   "cell_type": "code",
   "execution_count": 30,
   "id": "41d88349",
   "metadata": {
    "execution": {
     "iopub.execute_input": "2024-07-03T12:49:06.166747Z",
     "iopub.status.busy": "2024-07-03T12:49:06.166350Z",
     "iopub.status.idle": "2024-07-03T12:49:06.232625Z",
     "shell.execute_reply": "2024-07-03T12:49:06.231706Z"
    },
    "papermill": {
     "duration": 0.083162,
     "end_time": "2024-07-03T12:49:06.235001",
     "exception": false,
     "start_time": "2024-07-03T12:49:06.151839",
     "status": "completed"
    },
    "tags": []
   },
   "outputs": [],
   "source": [
    "submission = pd.DataFrame({'id': test_data.index, 'Response': test_pred})"
   ]
  },
  {
   "cell_type": "code",
   "execution_count": 31,
   "id": "f0896e12",
   "metadata": {
    "execution": {
     "iopub.execute_input": "2024-07-03T12:49:06.262730Z",
     "iopub.status.busy": "2024-07-03T12:49:06.262361Z",
     "iopub.status.idle": "2024-07-03T12:49:06.275882Z",
     "shell.execute_reply": "2024-07-03T12:49:06.274679Z"
    },
    "papermill": {
     "duration": 0.029963,
     "end_time": "2024-07-03T12:49:06.278073",
     "exception": false,
     "start_time": "2024-07-03T12:49:06.248110",
     "status": "completed"
    },
    "tags": []
   },
   "outputs": [
    {
     "data": {
      "text/html": [
       "<div>\n",
       "<style scoped>\n",
       "    .dataframe tbody tr th:only-of-type {\n",
       "        vertical-align: middle;\n",
       "    }\n",
       "\n",
       "    .dataframe tbody tr th {\n",
       "        vertical-align: top;\n",
       "    }\n",
       "\n",
       "    .dataframe thead th {\n",
       "        text-align: right;\n",
       "    }\n",
       "</style>\n",
       "<table border=\"1\" class=\"dataframe\">\n",
       "  <thead>\n",
       "    <tr style=\"text-align: right;\">\n",
       "      <th></th>\n",
       "      <th>id</th>\n",
       "      <th>Response</th>\n",
       "    </tr>\n",
       "  </thead>\n",
       "  <tbody>\n",
       "    <tr>\n",
       "      <th>0</th>\n",
       "      <td>11504798</td>\n",
       "      <td>0.016747</td>\n",
       "    </tr>\n",
       "    <tr>\n",
       "      <th>1</th>\n",
       "      <td>11504799</td>\n",
       "      <td>0.891927</td>\n",
       "    </tr>\n",
       "    <tr>\n",
       "      <th>2</th>\n",
       "      <td>11504800</td>\n",
       "      <td>0.694602</td>\n",
       "    </tr>\n",
       "    <tr>\n",
       "      <th>3</th>\n",
       "      <td>11504801</td>\n",
       "      <td>0.001001</td>\n",
       "    </tr>\n",
       "    <tr>\n",
       "      <th>4</th>\n",
       "      <td>11504802</td>\n",
       "      <td>0.323460</td>\n",
       "    </tr>\n",
       "    <tr>\n",
       "      <th>...</th>\n",
       "      <td>...</td>\n",
       "      <td>...</td>\n",
       "    </tr>\n",
       "    <tr>\n",
       "      <th>7669861</th>\n",
       "      <td>19174659</td>\n",
       "      <td>0.625008</td>\n",
       "    </tr>\n",
       "    <tr>\n",
       "      <th>7669862</th>\n",
       "      <td>19174660</td>\n",
       "      <td>0.000820</td>\n",
       "    </tr>\n",
       "    <tr>\n",
       "      <th>7669863</th>\n",
       "      <td>19174661</td>\n",
       "      <td>0.001780</td>\n",
       "    </tr>\n",
       "    <tr>\n",
       "      <th>7669864</th>\n",
       "      <td>19174662</td>\n",
       "      <td>0.886988</td>\n",
       "    </tr>\n",
       "    <tr>\n",
       "      <th>7669865</th>\n",
       "      <td>19174663</td>\n",
       "      <td>0.000463</td>\n",
       "    </tr>\n",
       "  </tbody>\n",
       "</table>\n",
       "<p>7669866 rows × 2 columns</p>\n",
       "</div>"
      ],
      "text/plain": [
       "               id  Response\n",
       "0        11504798  0.016747\n",
       "1        11504799  0.891927\n",
       "2        11504800  0.694602\n",
       "3        11504801  0.001001\n",
       "4        11504802  0.323460\n",
       "...           ...       ...\n",
       "7669861  19174659  0.625008\n",
       "7669862  19174660  0.000820\n",
       "7669863  19174661  0.001780\n",
       "7669864  19174662  0.886988\n",
       "7669865  19174663  0.000463\n",
       "\n",
       "[7669866 rows x 2 columns]"
      ]
     },
     "execution_count": 31,
     "metadata": {},
     "output_type": "execute_result"
    }
   ],
   "source": [
    "submission"
   ]
  },
  {
   "cell_type": "code",
   "execution_count": 32,
   "id": "53d8fd1e",
   "metadata": {
    "execution": {
     "iopub.execute_input": "2024-07-03T12:49:06.306125Z",
     "iopub.status.busy": "2024-07-03T12:49:06.305652Z",
     "iopub.status.idle": "2024-07-03T12:49:19.575390Z",
     "shell.execute_reply": "2024-07-03T12:49:19.574156Z"
    },
    "papermill": {
     "duration": 13.286738,
     "end_time": "2024-07-03T12:49:19.578035",
     "exception": false,
     "start_time": "2024-07-03T12:49:06.291297",
     "status": "completed"
    },
    "tags": []
   },
   "outputs": [],
   "source": [
    "submission.to_csv('submission.csv', index=False)"
   ]
  },
  {
   "cell_type": "markdown",
   "id": "d01012e1",
   "metadata": {
    "papermill": {
     "duration": 0.012832,
     "end_time": "2024-07-03T12:49:19.604245",
     "exception": false,
     "start_time": "2024-07-03T12:49:19.591413",
     "status": "completed"
    },
    "tags": []
   },
   "source": [
    "# Submission"
   ]
  },
  {
   "cell_type": "code",
   "execution_count": 33,
   "id": "bc2e97de",
   "metadata": {
    "execution": {
     "iopub.execute_input": "2024-07-03T12:49:19.631954Z",
     "iopub.status.busy": "2024-07-03T12:49:19.631585Z",
     "iopub.status.idle": "2024-07-03T12:49:19.636135Z",
     "shell.execute_reply": "2024-07-03T12:49:19.635204Z"
    },
    "papermill": {
     "duration": 0.020857,
     "end_time": "2024-07-03T12:49:19.638203",
     "exception": false,
     "start_time": "2024-07-03T12:49:19.617346",
     "status": "completed"
    },
    "tags": []
   },
   "outputs": [],
   "source": [
    "sample_sub['Response'] = lgbm_test\n",
    "sample_sub.to_csv('submission.csv', index=False)\n",
    "print(sample_sub.head())"
   ]
  }
 ],
 "metadata": {
  "kaggle": {
   "accelerator": "none",
   "dataSources": [
    {
     "databundleVersionId": 8930475,
     "sourceId": 73291,
     "sourceType": "competition"
    }
   ],
   "dockerImageVersionId": 30732,
   "isGpuEnabled": false,
   "isInternetEnabled": true,
   "language": "python",
   "sourceType": "notebook"
  },
  "kernelspec": {
   "display_name": "Python 3 (ipykernel)",
   "language": "python",
   "name": "python3"
  },
  "language_info": {
   "codemirror_mode": {
    "name": "ipython",
    "version": 3
   },
   "file_extension": ".py",
   "mimetype": "text/x-python",
   "name": "python",
   "nbconvert_exporter": "python",
   "pygments_lexer": "ipython3",
   "version": "3.12.9"
  },
  "papermill": {
   "default_parameters": {},
   "duration": 819.481696,
   "end_time": "2024-07-03T12:49:20.876764",
   "environment_variables": {},
   "exception": null,
   "input_path": "__notebook__.ipynb",
   "output_path": "__notebook__.ipynb",
   "parameters": {},
   "start_time": "2024-07-03T12:35:41.395068",
   "version": "2.5.0"
  }
 },
 "nbformat": 4,
 "nbformat_minor": 5
}
